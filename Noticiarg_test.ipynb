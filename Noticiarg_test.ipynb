{
  "nbformat": 4,
  "nbformat_minor": 0,
  "metadata": {
    "colab": {
      "name": "Noticiarg_test.ipynb",
      "provenance": [],
      "collapsed_sections": []
    },
    "kernelspec": {
      "display_name": "Python 3",
      "name": "python3"
    }
  },
  "cells": [
    {
      "cell_type": "code",
      "metadata": {
        "colab": {
          "base_uri": "https://localhost:8080/"
        },
        "id": "BD4rn7aC0fLs",
        "outputId": "82f6876a-29f6-4c0e-b72f-2a24333a2ac1"
      },
      "source": [
        "pip install python-telegram-bot --upgrade"
      ],
      "execution_count": null,
      "outputs": [
        {
          "output_type": "stream",
          "text": [
            "Collecting python-telegram-bot\n",
            "\u001b[?25l  Downloading https://files.pythonhosted.org/packages/cc/b3/f363e9c5c2e4690a1fd352c01263eb2938952888c09d73c824b49d288dcc/python_telegram_bot-13.1-py3-none-any.whl (422kB)\n",
            "\u001b[K     |████████████████████████████████| 430kB 5.8MB/s \n",
            "\u001b[?25hCollecting cryptography\n",
            "\u001b[?25l  Downloading https://files.pythonhosted.org/packages/4c/a2/6565c5271a79e3c96d7a079053b4d8408a740d4bf365f0f5f244a807bd09/cryptography-3.2.1-cp35-abi3-manylinux2010_x86_64.whl (2.6MB)\n",
            "\u001b[K     |████████████████████████████████| 2.6MB 32.0MB/s \n",
            "\u001b[?25hRequirement already satisfied, skipping upgrade: certifi in /usr/local/lib/python3.6/dist-packages (from python-telegram-bot) (2020.11.8)\n",
            "Requirement already satisfied, skipping upgrade: decorator>=4.4.0 in /usr/local/lib/python3.6/dist-packages (from python-telegram-bot) (4.4.2)\n",
            "Collecting APScheduler==3.6.3\n",
            "\u001b[?25l  Downloading https://files.pythonhosted.org/packages/f3/34/9ef20ed473c4fd2c3df54ef77a27ae3fc7500b16b192add4720cab8b2c09/APScheduler-3.6.3-py2.py3-none-any.whl (58kB)\n",
            "\u001b[K     |████████████████████████████████| 61kB 7.6MB/s \n",
            "\u001b[?25hRequirement already satisfied, skipping upgrade: tornado>=5.1 in /usr/local/lib/python3.6/dist-packages (from python-telegram-bot) (5.1.1)\n",
            "Requirement already satisfied, skipping upgrade: pytz>=2018.6 in /usr/local/lib/python3.6/dist-packages (from python-telegram-bot) (2018.9)\n",
            "Requirement already satisfied, skipping upgrade: cffi!=1.11.3,>=1.8 in /usr/local/lib/python3.6/dist-packages (from cryptography->python-telegram-bot) (1.14.3)\n",
            "Requirement already satisfied, skipping upgrade: six>=1.4.1 in /usr/local/lib/python3.6/dist-packages (from cryptography->python-telegram-bot) (1.15.0)\n",
            "Requirement already satisfied, skipping upgrade: setuptools>=0.7 in /usr/local/lib/python3.6/dist-packages (from APScheduler==3.6.3->python-telegram-bot) (50.3.2)\n",
            "Requirement already satisfied, skipping upgrade: tzlocal>=1.2 in /usr/local/lib/python3.6/dist-packages (from APScheduler==3.6.3->python-telegram-bot) (1.5.1)\n",
            "Requirement already satisfied, skipping upgrade: pycparser in /usr/local/lib/python3.6/dist-packages (from cffi!=1.11.3,>=1.8->cryptography->python-telegram-bot) (2.20)\n",
            "Installing collected packages: cryptography, APScheduler, python-telegram-bot\n",
            "Successfully installed APScheduler-3.6.3 cryptography-3.2.1 python-telegram-bot-13.1\n"
          ],
          "name": "stdout"
        }
      ]
    },
    {
      "cell_type": "code",
      "metadata": {
        "colab": {
          "base_uri": "https://localhost:8080/"
        },
        "id": "13b7pVrzz6wP",
        "outputId": "913d7fa2-baf6-4634-f6c7-8823ecc144eb"
      },
      "source": [
        "#LIBRERIAS DEL SCRAP\n",
        "import requests as req\n",
        "from bs4 import BeautifulSoup as bs\n",
        "\n",
        "#LIBRERIAS DEL BOT\n",
        "import logging\n",
        "from telegram import Update\n",
        "from telegram.ext import Updater, CommandHandler, MessageHandler, Filters, CallbackContext\n",
        "\n",
        "# Enable logging\n",
        "logging.basicConfig(\n",
        "    format='%(asctime)s - %(name)s - %(levelname)s - %(message)s', level=logging.INFO\n",
        ")\n",
        "\n",
        "logger = logging.getLogger(__name__)\n",
        "\n",
        "\n",
        "# Define a few command handlers. These usually take the two arguments update and\n",
        "# context. Error handlers also receive the raised TelegramError object in error.\n",
        "def start(update: Update, context: CallbackContext) -> None:\n",
        "    \"\"\"Send a message when the command /start is issued.\"\"\"\n",
        "    update.message.reply_text('Hola! Los titulos al momento de LA NACION ingresando /LN - Los titulos al momento de INFOBAE ingresando /IBAE')\n",
        "\n",
        "\n",
        "def help_command(update: Update, context: CallbackContext) -> None:\n",
        "    \"\"\"Send a message when the command /help is issued.\"\"\"\n",
        "    update.message.reply_text('Help!')\n",
        "\n",
        "\n",
        "def echo(update: Update, context: CallbackContext) -> None:\n",
        "    \"\"\"Echo the user message.\"\"\"\n",
        "    update.message.reply_text(update.message.text)\n",
        "\n",
        "def LN(update: Update, context: CallbackContext) -> None:\n",
        "    ln = req.get('https://www.lanacion.com.ar/')\n",
        "    sopa = bs(ln.content)\n",
        "    tit = sopa.find_all([\"h2\",\"h1\"])\n",
        "    urls = []\n",
        "    list = []\n",
        "    for x in range(0,len(tit)):\n",
        "        list.append(tit[x].get_text(strip=True))\n",
        "    for h in tit:\n",
        "        urls.append(h.find('a').attrs['href'])\n",
        "    i = 0\n",
        "    for link in urls:\n",
        "      urls[i] = \"www.lanacion.com\" + urls[i]\n",
        "      i = i + 1\n",
        "    i = 0\n",
        "    for link2 in list:\n",
        "      list[i] = list[i] + ' Leela en ' + urls[i]\n",
        "      i = i + 1\n",
        "    update.message.reply_text(list[0])\n",
        "    update.message.reply_text(list[1])\n",
        "    update.message.reply_text(list[2])\n",
        "    update.message.reply_text(list[3])\n",
        "    update.message.reply_text(list[4])\n",
        "    update.message.reply_text(list[5])\n",
        "\n",
        "def IBAE(update: Update, context: CallbackContext) -> None:\n",
        "    ibae = req.get('https://www.infobae.com/')\n",
        "    sopa = bs(ibae.content)\n",
        "    tit = sopa.find_all([\"h2\",\"h1\"])\n",
        "    list = []\n",
        "    for x in range(0,len(tit)):\n",
        "      list.append(tit[x].get_text(strip=True))\n",
        "    update.message.reply_text(list[0])\n",
        "    update.message.reply_text(list[1])\n",
        "    update.message.reply_text(list[2])\n",
        "    update.message.reply_text(list[3])\n",
        "    update.message.reply_text(list[4])\n",
        "    update.message.reply_text(list[5])\n",
        "    update.message.reply_text(\"Para mas info ingresá en www.infobae.com\")\n",
        "\n",
        "\n",
        "def main():\n",
        "    \"\"\"Start the bot.\"\"\"\n",
        "    # Create the Updater and pass it your bot's token.\n",
        "    # Make sure to set use_context=True to use the new context based callbacks\n",
        "    # Post version 12 this will no longer be necessary\n",
        "    updater = Updater(\"1485601470:AAE-daqFovVEqlXmK6mlp0-Clrkc17n3pnU\", use_context=True)\n",
        "\n",
        "    # Get the dispatcher to register handlers\n",
        "    dispatcher = updater.dispatcher\n",
        "\n",
        "    # on different commands - answer in Telegram\n",
        "    dispatcher.add_handler(CommandHandler(\"start\", start))\n",
        "    dispatcher.add_handler(CommandHandler(\"help\", help_command))\n",
        "    dispatcher.add_handler(CommandHandler(\"LN\", LN))\n",
        "    dispatcher.add_handler(CommandHandler(\"IBAE\", IBAE))\n",
        "\n",
        "    # on noncommand i.e message - echo the message on Telegram\n",
        "    dispatcher.add_handler(MessageHandler(Filters.text & ~Filters.command, echo))\n",
        "\n",
        "    # Start the Bot\n",
        "    updater.start_polling()\n",
        "\n",
        "    # Run the bot until you press Ctrl-C or the process receives SIGINT,\n",
        "    # SIGTERM or SIGABRT. This should be used most of the time, since\n",
        "    # start_polling() is non-blocking and will stop the bot gracefully.\n",
        "    updater.idle()\n",
        "\n",
        "\n",
        "if __name__ == '__main__':\n",
        "    main()\n"
      ],
      "execution_count": null,
      "outputs": [
        {
          "output_type": "stream",
          "text": [
            "2020-12-03 19:49:59,920 - apscheduler.scheduler - INFO - Scheduler started\n",
            "2020-12-03 19:57:04,530 - telegram.ext.updater - INFO - Received signal 2 (SIGINT), stopping...\n",
            "2020-12-03 19:57:04,532 - apscheduler.scheduler - INFO - Scheduler has been shut down\n"
          ],
          "name": "stderr"
        }
      ]
    }
  ]
}